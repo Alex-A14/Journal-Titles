{
 "cells": [
  {
   "cell_type": "code",
   "execution_count": 6,
   "metadata": {},
   "outputs": [
    {
     "name": "stdout",
     "output_type": "stream",
     "text": [
      "Frames of reference in spatial transformation skills\n",
      "None\n",
      "Categorization-based stranger avoidance does not affect response priming<U+2606>\n",
      "Cognitive influences in children’s processing of novel behaviour\n",
      "An integrative account of constraints on the production effect in causal sequences\n",
      "Having control over the view-matching framework\n",
      "Linking production and comprehension: Evidence from concurrent word learning\n",
      "Task effects reveal cognitive flexibility responding to frequency and the endowment effect in face space\n",
      "The effect of face memory during childhood\n",
      "Cross-situational learning in typical development and autism\n"
     ]
    }
   ],
   "source": [
    "import markovify\n",
    "import random\n",
    "\n",
    "# Get raw text as string.\n",
    "with open(\"titles.txt\") as f:\n",
    "    text = f.read()\n",
    "\n",
    "text_model = markovify.NewlineText(text)\n",
    "\n",
    "# Print ten randomly-generated sentences using the built model\n",
    "for i in range(10):\n",
    "    print(text_model.make_short_sentence(max_chars = random.randint(50,150), max_overlap_ratio = random.uniform(.4, .8)))"
   ]
  },
  {
   "cell_type": "code",
   "execution_count": null,
   "metadata": {},
   "outputs": [],
   "source": []
  },
  {
   "cell_type": "code",
   "execution_count": null,
   "metadata": {},
   "outputs": [],
   "source": []
  }
 ],
 "metadata": {
  "kernelspec": {
   "display_name": "Python 3",
   "language": "python",
   "name": "python3"
  },
  "language_info": {
   "codemirror_mode": {
    "name": "ipython",
    "version": 3
   },
   "file_extension": ".py",
   "mimetype": "text/x-python",
   "name": "python",
   "nbconvert_exporter": "python",
   "pygments_lexer": "ipython3",
   "version": "3.7.4"
  }
 },
 "nbformat": 4,
 "nbformat_minor": 4
}
