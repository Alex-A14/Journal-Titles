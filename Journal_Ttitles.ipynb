{
 "cells": [
  {
   "cell_type": "markdown",
   "metadata": {},
   "source": [
    "# Markov Generated Article Titles"
   ]
  },
  {
   "cell_type": "code",
   "execution_count": null,
   "metadata": {},
   "outputs": [],
   "source": [
    "Author: Alex Albury"
   ]
  },
  {
   "cell_type": "markdown",
   "metadata": {},
   "source": [
    "This notebook generates journal article titles based on titles from the journal \"Cognition\", going back to 1994.\n",
    "Web-scraping and data cleaning were conducted in R. Titles were scraped using the `rvest` package. Article names are randomly generated in Python using `markovify`\n",
    "\n",
    "Run the chunk below to generate new titles!"
   ]
  },
  {
   "cell_type": "code",
   "execution_count": 5,
   "metadata": {},
   "outputs": [
    {
     "name": "stdout",
     "output_type": "stream",
     "text": [
      "Reward alters the local bias of intuitive judgments of moral cognition\n",
      "Eliminating dual-task costs by minimizing crosstalk between tasks: The contribution of visual attention\n",
      "Learning language from two to six years: The case of relative clauses in Chinese word naming and word typing\n",
      "Mutual exclusivity in autism and typical development and autism\n",
      "None\n",
      "Identifying objects in space\n",
      "It depends: Partisan evaluation of others goals automatically biases the direction of gaze\n",
      "Identical but not deterministic outcomes\n",
      "Emotion recognition ability: Evidence for the effects of bilingualism on cognitive performance\n",
      "Categorization is modulated by the visibility of the Popularity Bias\n"
     ]
    }
   ],
   "source": [
    "import markovify\n",
    "import random\n",
    "\n",
    "# Get raw text as string.\n",
    "with open(\"titles.txt\", encoding=\"utf8\", errors='ignore') as f:\n",
    "    text = f.read()\n",
    "\n",
    "text_model = markovify.NewlineText(text)\n",
    "\n",
    "# Print ten randomly-generated sentences\n",
    "for i in range(10):\n",
    "    print(text_model.make_short_sentence(max_chars = random.randint(50,150), max_overlap_ratio = random.uniform(.4, .8)))"
   ]
  },
  {
   "cell_type": "markdown",
   "metadata": {},
   "source": [
    "R Code Available at:\n",
    "https://github.com/Alex-A14/Journal-Titles"
   ]
  },
  {
   "cell_type": "code",
   "execution_count": null,
   "metadata": {},
   "outputs": [],
   "source": []
  },
  {
   "cell_type": "code",
   "execution_count": null,
   "metadata": {},
   "outputs": [],
   "source": []
  }
 ],
 "metadata": {
  "kernelspec": {
   "display_name": "Python 3",
   "language": "python",
   "name": "python3"
  },
  "language_info": {
   "codemirror_mode": {
    "name": "ipython",
    "version": 3
   },
   "file_extension": ".py",
   "mimetype": "text/x-python",
   "name": "python",
   "nbconvert_exporter": "python",
   "pygments_lexer": "ipython3",
   "version": "3.7.6"
  }
 },
 "nbformat": 4,
 "nbformat_minor": 4
}
