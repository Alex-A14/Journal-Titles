{
 "cells": [
  {
   "cell_type": "markdown",
   "metadata": {},
   "source": [
    "# Markov Generated Article Titles"
   ]
  },
  {
   "cell_type": "code",
   "execution_count": null,
   "metadata": {},
   "outputs": [],
   "source": [
    "Author: Alex Albury"
   ]
  },
  {
   "cell_type": "markdown",
   "metadata": {},
   "source": [
    "This notebook generates journal article titles based on titles from the journal \"Cognition\", going back to 1994. Web-scraping and data cleaning were conducted in R. Titles were scraped using the `rvest` package. Articles are randomly generated in Python using `markovify`\n",
    "\n",
    "Run the chunk below to generate new titles!"
   ]
  },
  {
   "cell_type": "code",
   "execution_count": 4,
   "metadata": {},
   "outputs": [
    {
     "name": "stdout",
     "output_type": "stream",
     "text": [
      "Children adapt their exploratory strategies to the experienced location of the second gavagai problem\n",
      "Is infant-directed speech stimuli\n",
      "Money enhances memory for musical experiences\n",
      "Two-year-olds use artist intention to understand argument structure: Evidence for the greater good\n",
      "Enumeration strategy differences revealed by speech segmentation\n",
      "Transfer effects in children, younger and older adults\n",
      "A universal bias in adult contextual word learning in young children\n",
      "It is there whether you hear feather when listening to others selectively practicing beliefs\n",
      "Mirrors, mirrors on the perception of accented speech\n",
      "Generality and specificity in the resolution of lexical verbs in the first two years\n"
     ]
    }
   ],
   "source": [
    "import markovify\n",
    "import random\n",
    "\n",
    "# Get raw text as string.\n",
    "with open(\"titles.txt\", encoding=\"utf8\", errors='ignore') as f:\n",
    "    text = f.read()\n",
    "\n",
    "text_model = markovify.NewlineText(text)\n",
    "\n",
    "# Print ten randomly-generated sentences\n",
    "for i in range(10):\n",
    "    print(text_model.make_short_sentence(max_chars = random.randint(50,150), max_overlap_ratio = random.uniform(.4, .8)))"
   ]
  },
  {
   "cell_type": "code",
   "execution_count": null,
   "metadata": {},
   "outputs": [],
   "source": [
    "R Code Available at:\n",
    "https://github.com/Alex-A14/Journal-Titles"
   ]
  },
  {
   "cell_type": "code",
   "execution_count": null,
   "metadata": {},
   "outputs": [],
   "source": []
  },
  {
   "cell_type": "code",
   "execution_count": null,
   "metadata": {},
   "outputs": [],
   "source": []
  }
 ],
 "metadata": {
  "kernelspec": {
   "display_name": "Python 3",
   "language": "python",
   "name": "python3"
  },
  "language_info": {
   "codemirror_mode": {
    "name": "ipython",
    "version": 3
   },
   "file_extension": ".py",
   "mimetype": "text/x-python",
   "name": "python",
   "nbconvert_exporter": "python",
   "pygments_lexer": "ipython3",
   "version": "3.7.6"
  }
 },
 "nbformat": 4,
 "nbformat_minor": 4
}
